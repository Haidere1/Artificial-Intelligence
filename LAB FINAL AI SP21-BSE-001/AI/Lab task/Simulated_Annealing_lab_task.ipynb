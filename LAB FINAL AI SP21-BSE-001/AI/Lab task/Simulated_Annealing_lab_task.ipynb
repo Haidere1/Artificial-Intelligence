{
  "nbformat": 4,
  "nbformat_minor": 0,
  "metadata": {
    "colab": {
      "provenance": []
    },
    "kernelspec": {
      "name": "python3",
      "display_name": "Python 3"
    },
    "language_info": {
      "name": "python"
    }
  },
  "cells": [
    {
      "cell_type": "markdown",
      "source": [
        "## Simulated annealing\n",
        "Although we have seen variants that can improve hill climbing, they all share the same fault: once the algorithm reaches a local maximum, it stops running. Simulated annealing allows the algorithm to “dislodge” itself if it gets stuck in a local maximum.\n",
        "\n",
        "Annealing is the process of heating metal and allowing it to cool slowly, which serves to toughen the metal. This is used as a metaphor for the simulated annealing algorithm, which starts with a high temperature, being more likely to make random decisions, and, as the temperature decreases, it becomes less likely to make random decisions, becoming more “firm.” This mechanism allows the algorithm to change its state to a neighbor that’s worse than the current state, which is how it can escape from local maxima. The following is pseudocode for simulated annealing:\n",
        "\n",
        "__function Simulated-Annealing(state, max):__\n",
        "- current = state\n",
        "- for $t = 1:max$\n",
        "> - $T = \\frac{T_0}{1+log(1+t)}$\n",
        "> - neighbor = random neighbor of current\n",
        "> - $\\Delta E = h(neighbor)-h(current)$\n",
        ">- $P(neighbor,current)=\\frac{1}{1+e^{-\\Delta E/T}}$\n",
        ">- generate a uniform random number $\\mu\\in[0,1]$\n",
        ">- __if__ $\\mu\\le P(neighbor,current)$:\n",
        ">>- current=neighbor\n",
        "- return current\n",
        "\n",
        "The algorithm takes as input a problem and max, the number of times it should repeat itself. For each iteration, t,   the temperature is set using the function.\n",
        "$$T = \\frac{T_0}{1+log(1+t)}$$\n",
        "The avove function is monotonically decreasing function, which return a higher value in the early iterations (when t is low) and a lower value in later iterations (when t is high). Then, a random neighbor is selected, and ΔE is computed such that it quantifies how better the neighbor state is than the current state. The current state is repalce by the neighbor state based on the probability.\n",
        "$$P(neighbor,current)=\\frac{1}{1+e^{-\\Delta E/T}}$$\n",
        "The idea here is that a more negative ΔE will result in lower probability of the neighbor state being chosen, and the higher the temperature T the higher the probability that the neighbor state will be chosen. This means that the worse the neighbor state, the less likely it is to be chosen, and the earlier the algorithm is in its process, the more likely it is to set a worse neighbor state as current state. The math behind this is as follows: e is a constant (around 2.72), and ΔE is negative (since this neighbor is worse than the current state). The more negative ΔE, the closer the resulting value to 0. The higher the temperature T is, the closer ΔE/T is to 0, making the probability closer to 1.\n",
        "\n",
        "### 8-queens Problem\n",
        "\n",
        "8-queens is a classic computer science problem. To find possible arrangements of 8-queens on a standard $8\\times 8 $ chessboard such that no queens end up in an attacking configuration. Now, if one knows the basics of chess, one can say that a queen can travel either horizontally, vertically, or diagonally. Hence, for 2 or more queens to be in an attacking state, they have to lie either horizontally or vertically or diagonally in-line with the other queen. Figure 1 illustrates that what all are the attacking positions with respect to a queen. As seen, the attacking positions are those where in the queen can move either horizontally, vertically, or diagonally along the chessboard.” OK ” resembles the chessboard square which is considered a safe and non-attacking position. Whereas the one marked with an ” X ” is an attacking placement. Figure 2, shows one of the possible arrangements that serve as a solution to the 8 queens problem.\n",
        "\n",
        "<img src=\"queen_attacking.png\" style=\"width:300px;height:300px;\">\n",
        "<caption><center> <u> <font color='purple'> **Figure 1** </u></center></caption>\n",
        "\n",
        "<img src=\"solution.jpg\" style=\"width:300px;height:300px;\">\n",
        "<caption><center> <u> <font color='purple'> **Figure 2** </u></center></caption>\n",
        "\n",
        "- **State representation:** In the 8-queen problem, an individual (state) can be represented by a string of digits 0 to 7, that represents the position of the 8 queens in the 8 columns. **Illustration:** a state for the solution (Figure 2) can be represented as a list [5,7,1,3,0,6,4,2]. __Note:__ In python the first row have index 0 and $n^{th}$ row have the index $n-1$.\n",
        "\n",
        "**Implementation of evaluation function (h):**\n",
        "The number of non-attacking queens in a given configration will be considered as the value of the evaluation function.Thus the n-queen problem will be treated as a maximization problem. The configration which has highest evaluation value will be the best solution and vice-versa. The evaluation ,$h$, can be given as:\n",
        "\n",
        " $h=max_{attacking}-current_{attacking}$\n",
        "\n",
        "  The $current_{attacking}$ represents the number attacking pairs of queens in the given configration (state) while the $max_{attacking}$ represents the maximum possible pairs of attaccking queens. For $n$-queens the $max_{attacking}$ can be given as:\n",
        "\n",
        " $max_{attacking}=\\frac{n(n-1)}{2}$\n",
        "\n",
        "As we mentioned earlier that a state can be represented as a list of digits. Let c=[3,2,1,3] represents an individual (state). Generally, a location of a particular queen can be given as $(i,j)$, where $i$ is the index and $j$ is the value at that index.  For example, in the given state 'c' the location of first queen can be represented as (0,3). We can compute the $current_{attacking}$ in a very simple way. Consider two queens at location (p,r) and (s,t) respectively. The queens will be considered attacking if any of the two conditons hold. 1) $r=t$ or .2) $|p-s|=|r-t|$\n",
        "\n",
        " This function will take a __state__ as an input and will return the __eval_value__, the number of nonattacking pairs of queens.\n",
        "\n",
        "\n",
        " **Write your code where None is written ***"
      ],
      "metadata": {
        "id": "hZ-wyxJAmLbK"
      }
    },
    {
      "cell_type": "code",
      "source": [
        "import random\n",
        "import math\n",
        "\n",
        "class NQueensProblem:\n",
        "    def __init__(self, n):\n",
        "        self.n = n\n",
        "        self.current_state = self.initial_state()\n",
        "\n",
        "    def initial_state(self):\n",
        "        # Generate a random initial state\n",
        "        return [random.randint(0, self.n-1) for _ in range(self.n)]\n",
        "\n",
        "\n",
        "    def h(self, state):\n",
        "      current_attacks=0\n",
        "      for i in range(self.n):\n",
        "        for j in range(i+1,self.n):\n",
        "            if None:\n",
        "                current_attacks+=1\n",
        "\n",
        "\n",
        "      return None\n",
        "\n",
        "    def random_neighbor(self, state):\n",
        "        # Generate a random neighbor state\n",
        "        neighbor = state.copy()\n",
        "        col = random.randint(0, self.n - 1)\n",
        "        row = random.randint(0, self.n - 1)\n",
        "        neighbor[col] = row\n",
        "        return neighbor\n",
        "\n",
        "    def simulated_annealing(self, max_iterations):\n",
        "        T0 = 1.0  # Initial temperature\n",
        "        for t in range(1, max_iterations + 1):\n",
        "            T = None # use math.log\n",
        "            neighbor = self.random_neighbor(None)\n",
        "            ΔE = None - None\n",
        "            P = None # use math.log\n",
        "            μ = None # Use random.uniform function to generate a uniform number between 0 and 1\n",
        "            if μ <= P:\n",
        "                self.current_state = None\n",
        "        return self.current_state\n",
        "\n",
        "# Example usage for the n-queens problem\n",
        "n = 8  # Change this to the desired size of the board\n",
        "max_iterations = 1000  # Adjust as needed\n",
        "\n",
        "problem = NQueensProblem(n)\n",
        "final_state = problem.simulated_annealing(max_iterations)\n",
        "\n",
        "non_attacking_pairs = problem.h(final_state)\n",
        "print(\"Final State:\", final_state)\n",
        "print(\"Non-attacking pairs:\", non_attacking_pairs)\n"
      ],
      "metadata": {
        "colab": {
          "base_uri": "https://localhost:8080/"
        },
        "id": "3pIqMPHSJsgv",
        "outputId": "3c929ed6-040d-46fe-a5b6-380aaf48df07"
      },
      "execution_count": null,
      "outputs": [
        {
          "output_type": "stream",
          "name": "stdout",
          "text": [
            "Final State: [5, 2, 6, 1, 3, 7, 0, 4]\n",
            "Non-attacking pairs: 28.0\n"
          ]
        }
      ]
    },
    {
      "cell_type": "markdown",
      "source": [],
      "metadata": {
        "id": "AcYZ8emZmIHD"
      }
    },
    {
      "cell_type": "code",
      "source": [],
      "metadata": {
        "id": "MuFeIuSaLPey"
      },
      "execution_count": null,
      "outputs": []
    }
  ]
}