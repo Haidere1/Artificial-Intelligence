{
  "cells": [
    {
      "cell_type": "markdown",
      "metadata": {
        "id": "-yk5IKH4BL0V"
      },
      "source": [
        "\n",
        "# Water-Jug problem\n",
        "\n",
        "In this assignment you have to solve the Water-Jug problem using Depth First Search (DFS). For your convenience the code of the DFS is given. Your have represent the  Water-Jug problem in such a way that can be solved using DFS. The detail of the mentioned problem are given the following paragraphs. You have to write your code where __None__ is written.  "
      ]
    },
    {
      "cell_type": "markdown",
      "metadata": {
        "id": "3hSSRtb6BL0Z"
      },
      "source": [
        "### Water Jug Problem"
      ]
    },
    {
      "cell_type": "markdown",
      "metadata": {
        "id": "4jRrHPJ_BL0a"
      },
      "source": [
        "You are given two jugs, a 4-gallon one and a 3-gallon one.Neither has any measuring mark on it.There is a pump that can be used to fill the jugs with water.How can you get exactly 2 gallons of water into the 4-gallon jug. To solve the problem you can make the following assumptions:\n",
        "-  You can fill a jug from the pump.\n",
        "-  You can pour water out of a jug to the ground.\n",
        "-  You can pour water from one jug to another.\n",
        "-  There is no measuring device available, i.e, there is no measuring mark on any jug."
      ]
    },
    {
      "cell_type": "markdown",
      "metadata": {
        "id": "1oFm5LCeBL0b"
      },
      "source": [
        "## State Space representation:\n",
        "The state space for this problem can be described as the set of ordered pairs of integers (x,y)\n",
        "Where,\n",
        "- X represents the quantity of  water in the 4-gallon jug, i.e.,  X= 0,1,2,3,4\n",
        "- Y represents the quantity of water in 3-gallon jug , i.e., Y=0,1,2,3\n",
        "- __Start State: (0,0)__, initially both jugs wil be empty\n",
        "- __Goal State: (2,0)__, the 4-gallon jug should contain 2 gallons of water and 3-gallon jug should be empty\n"
      ]
    },
    {
      "cell_type": "markdown",
      "metadata": {
        "id": "vfGYdhr7BL0c"
      },
      "source": [
        "## Set of actions:\n",
        "The different actions are given by:  \n",
        "\n",
        "|Action :| New state (Result)|  \n",
        "|------|-----------|\n",
        "|Fill 4-gallon jug: $(X,Y)$ if $X<4:-$ | $(4,Y)$ |\n",
        "|Fill 3-gallon jug: $(X,Y)$ if $Y<3:-$ | $(X,3)$  |\n",
        "|Empty 4-gallon jug: $(X,Y)$ if $X>0):-$| $(0,Y)$ |\n",
        "|Empty 3-gallon jug: $(X,Y)$ if $Y>0):- $| $(X,0)$ |\n",
        "|Pour water from 3-gallon jug into 4-gallon jug until 4-gallon jug is full: $(X,Y)$ if $X+Y>=4 $ & $Y>0):-$|$(4,Y-(4-X))$|\n",
        "|Pour water from 4-gallon jug into 3-gallon jug until 3-gallon jug is full: $(X,Y)$ if $X+Y>=3 $ & $X>0):-$|$(X-(3-Y),3)$|\n",
        "|Pour all water from 3-gallon jug into 4-gallon jug: $(X,Y)$ if $X+Y<=4$  & $Y>0:-$|$(X+Y,0)$|\n",
        "|Pour all water from 4-gallon jug into 3-gallon jug: $(X,Y)$ if $X+Y<=3$  & $X>0:-$|$(0,X+Y)$|\n",
        "|Pour 2 gallon water from 3 gallon jug into 4 gallon jug: $(0,2):-$|$(2,0)$|\n",
        "\n"
      ]
    },
    {
      "cell_type": "markdown",
      "metadata": {
        "id": "DMeQCEp5BL0d"
      },
      "source": [
        "The following list, __\"al\"__, contains all the possible actions as stated in the left column of the above table"
      ]
    },
    {
      "cell_type": "code",
      "execution_count": null,
      "metadata": {
        "id": "oKvxyoQlBL0d"
      },
      "outputs": [],
      "source": [
        "al = [None,'fillA',   # Fill 4-gallon jug\n",
        "'fillB',              #  Fill 3-gallon jug\n",
        " 'emptyA',            #  Empty 4-gallon jug\n",
        " 'emptyB',            #  Empty 3-gallon jug\n",
        " 'fillAfromB',        #  Pour water from 3-gallon jug into 4-gallon jug until 4-gallon jug is full\n",
        " 'fillBfromA',        #  Pour water from 4-gallon jug into 3-gallon jug until 3-gallon jug is full\n",
        " 'emptyBintoA',       #  Pour all water from 3-gallon jug into 4-gallon jug\n",
        " 'emptyAintoB',       #  Pour all water from 4-gallon jug into 3-gallon jug:\n",
        " ]"
      ]
    },
    {
      "cell_type": "markdown",
      "metadata": {
        "id": "szEZH7o6BL0e"
      },
      "source": [
        "Define a function, __\"branching_factor\"__, which should return the set of all possible actions that may be taken from a given state __\"s\"__. For your convienence the first condtion, given in the above table, is defined. You need to define the rest of the conditons in the same way:"
      ]
    },
    {
      "cell_type": "code",
      "execution_count": null,
      "metadata": {
        "id": "GFL1PglrBL0f"
      },
      "outputs": [],
      "source": [
        "\n",
        "def branching_factor(s): #s is the input state. The function will return the set of actions which are possible from\n",
        "    #the given state s\n",
        "    actions=[] # the set of actions\n",
        "    X, Y = s # This will assign the first element of \"s\" to X and second element to Y respectively\n",
        "\n",
        "    if X < 4: #Fill 4-gallon jug\n",
        "        actions.append(al[1])\n",
        "    if None : #Fill 3-gallon jug\n",
        "        actions.append(al[2])\n",
        "    if None: #Empty 4-gallon jug\n",
        "        actions.append(al[3])\n",
        "    if None: #  Empty 3-gallon jug\n",
        "        actions.append(al[4])\n",
        "    if None: #  Pour water from 3-gallon jug into 4-gallon jug until 4-gallon jug is full\n",
        "        actions.append(al[5])\n",
        "    if None: #  Pour water from 4-gallon jug into 3-gallon jug until 3-gallon jug is full\n",
        "        actions.append(al[6])\n",
        "    if None: #  Pour all water from 3-gallon jug into 4-gallon jug\n",
        "        actions.append(al[7])\n",
        "    if None: #  Pour all water from 4-gallon jug into 3-gallon jug:\n",
        "        actions.append(al[8])\n",
        "\n",
        "    return actions\n",
        "\n"
      ]
    },
    {
      "cell_type": "code",
      "execution_count": null,
      "metadata": {
        "id": "UPr5EZ8_BL0g",
        "outputId": "2d5c2d68-7d67-4b4d-aa81-75032b315128"
      },
      "outputs": [
        {
          "name": "stdout",
          "output_type": "stream",
          "text": [
            "The possible list of actions for state [0, 0] :    ['fillA', 'fillB']\n"
          ]
        }
      ],
      "source": [
        "#Test your function!\n",
        "#The output should be:\n",
        "# The possible list of actions for state [0, 0] :    ['fillA', 'fillB']\n",
        "start=[0,0]\n",
        "print(\"The possible list of actions for state\",start,\":   \", branching_factor(start))"
      ]
    },
    {
      "cell_type": "markdown",
      "metadata": {
        "id": "9uLYm3YfBL0h"
      },
      "source": [
        "The following function will return the result of a given action. This function will accept the __state__ and possible list of __actions__ and will perform the specified operation accordingly. Suppose you are given a state  $(X,Y)$ where $X<4$. This state represent that the 4-gallon jug is empty. The you can perfom the operation *__Fill 4-gallon jug__* ,i.e, $(4,Y)$. For your convenience this operation is already define in the given function. You need to perform the other operations, as given in the right column of the above table."
      ]
    },
    {
      "cell_type": "code",
      "execution_count": null,
      "metadata": {
        "id": "a7kju97jBL0i"
      },
      "outputs": [],
      "source": []
    },
    {
      "cell_type": "code",
      "execution_count": null,
      "metadata": {
        "id": "-pt-CTbDBL0i"
      },
      "outputs": [],
      "source": [
        "def result(state,action):\n",
        "    X, Y = state\n",
        "    if action == al[1]:#Fill 4-gallon jug\n",
        "        None\n",
        "    if action == al[2]:#Fill 3-gallon jug\n",
        "        Noe\n",
        "    if action == al[3]:#Empty 4-gallon jug\n",
        "        None\n",
        "    if action == al[4]:#  Empty 3-gallon jug\n",
        "        None\n",
        "    if action == al[5]: #  Pour water from 3-gallon jug into 4-gallon jug until 4-gallon jug is full\n",
        "         None\n",
        "         None\n",
        "    if action == al[6]: #  Pour water from 4-gallon jug into 3-gallon jug until 3-gallon jug is full\n",
        "         None\n",
        "         None\n",
        "    if action == al[7]: #  Pour all water from 3-gallon jug into 4-gallon jug\n",
        "         None\n",
        "         None\n",
        "    if action == al[8]: #  Pour all water from 4-gallon jug into 3-gallon jug:\n",
        "         None\n",
        "         None\n",
        "    return [X,Y]"
      ]
    },
    {
      "cell_type": "code",
      "execution_count": null,
      "metadata": {
        "id": "UDuAGmzJBL0j",
        "outputId": "1e5e71c5-2da7-4cd6-aeb5-a3154bb2b100"
      },
      "outputs": [
        {
          "name": "stdout",
          "output_type": "stream",
          "text": [
            "[0, 0]\n"
          ]
        }
      ],
      "source": []
    },
    {
      "cell_type": "markdown",
      "metadata": {
        "id": "HCeU9TIGBL0j"
      },
      "source": [
        "This function will return the set neighbors of a given state"
      ]
    },
    {
      "cell_type": "code",
      "execution_count": null,
      "metadata": {
        "id": "INq-ciRHBL0k"
      },
      "outputs": [],
      "source": [
        "def neighbors(s):\n",
        "    actionlist = None # The list of all possible actions that may be taken in state \"s\"\n",
        "    successors = None #The result of the actions taken in state \"s\". Hint: You can use loop\n",
        "    #or list comprehension to return the resulting neighboring states\n",
        "    print('The neighbors of state', s, 'are   :',successors )\n",
        "    return successors"
      ]
    },
    {
      "cell_type": "code",
      "execution_count": null,
      "metadata": {
        "id": "ZVzuHYvFBL0k",
        "outputId": "884f9386-203b-48f3-a319-4b6c60e32dc3"
      },
      "outputs": [
        {
          "ename": "NameError",
          "evalue": "name 'neighbors' is not defined",
          "output_type": "error",
          "traceback": [
            "\u001b[0;31m---------------------------------------------------------------------------\u001b[0m",
            "\u001b[0;31mNameError\u001b[0m                                 Traceback (most recent call last)",
            "\u001b[0;32m<ipython-input-1-72832168d172>\u001b[0m in \u001b[0;36m<module>\u001b[0;34m()\u001b[0m\n\u001b[1;32m      1\u001b[0m \u001b[0;31m#test your function. The output for the given input must be \"The neighbors of state [0, 0] are   : [[4, 0], [0, 3]]\"\u001b[0m\u001b[0;34m\u001b[0m\u001b[0;34m\u001b[0m\u001b[0m\n\u001b[1;32m      2\u001b[0m \u001b[0mstate\u001b[0m\u001b[0;34m=\u001b[0m\u001b[0;34m[\u001b[0m\u001b[0;36m0\u001b[0m\u001b[0;34m,\u001b[0m\u001b[0;36m0\u001b[0m\u001b[0;34m]\u001b[0m\u001b[0;34m\u001b[0m\u001b[0m\n\u001b[0;32m----> 3\u001b[0;31m \u001b[0mneighbors\u001b[0m\u001b[0;34m(\u001b[0m\u001b[0mstate\u001b[0m\u001b[0;34m)\u001b[0m\u001b[0;34m\u001b[0m\u001b[0m\n\u001b[0m",
            "\u001b[0;31mNameError\u001b[0m: name 'neighbors' is not defined"
          ]
        }
      ],
      "source": [
        "#test your function. The output for the given input must be \"The neighbors of state [0, 0] are   : [[4, 0], [0, 3]]\"\n",
        "state=[0,0]\n",
        "neighbors(state)"
      ]
    },
    {
      "cell_type": "code",
      "execution_count": null,
      "metadata": {
        "id": "WlnSikU7BL0k"
      },
      "outputs": [],
      "source": [
        "\n",
        "def goal_test(goal, state):\n",
        "    ''' check if state equals goal state'''\n",
        "    if state == goal:\n",
        "        return True\n",
        "    else:\n",
        "        return False\n",
        ""
      ]
    },
    {
      "cell_type": "code",
      "execution_count": null,
      "metadata": {
        "id": "tM25kI58BL0l",
        "outputId": "c538d93f-10e5-4ea5-e145-b6d2359c7808"
      },
      "outputs": [
        {
          "name": "stdout",
          "output_type": "stream",
          "text": [
            "False\n"
          ]
        }
      ],
      "source": [
        "#Test your function!\n",
        "#for the given input the output must be \"False\"\n",
        "goal=[2,1]\n",
        "state=[0,0]\n",
        "print(goal_test(goal, state))"
      ]
    },
    {
      "cell_type": "code",
      "execution_count": null,
      "metadata": {
        "id": "OVJMbsaaBL0l"
      },
      "outputs": [],
      "source": [
        "def dfs(start, goal):\n",
        "    explored = [] # initialize the explored list\n",
        "    frontier = [start] # initializ the frontier as a list with the start state\n",
        "    print('searching from: {} to {}'.format(start, goal))\n",
        "    while frontier: #repeat while frontier is not empty\n",
        "        print('Frontier:', frontier) # print current contents of the frontier\n",
        "        # remove one state form the frontier and store in explore list\n",
        "        state = frontier.pop(0)\n",
        "        explored.append(state)\n",
        "        print('')\n",
        "        print('')\n",
        "        print('')\n",
        "        print('Now in:', state) # print the current state\n",
        "\n",
        "\n",
        "        # test wheter the current state is goal?\n",
        "        if goal_test(state,goal):\n",
        "            print('Desitnation reached')\n",
        "            return state\n",
        "\n",
        "        # check whehter the current state has already processed or present in frontier\n",
        "        for neighbor in neighbors(state):\n",
        "            if neighbor not in explored and neighbor not in frontier:\n",
        "                frontier.append(neighbor)\n",
        "\n",
        "    print('failure')"
      ]
    },
    {
      "cell_type": "code",
      "execution_count": null,
      "metadata": {
        "id": "KEHLZM62BL0m",
        "outputId": "ff0a3f15-06c5-4b37-afcc-e917c3a634bc"
      },
      "outputs": [
        {
          "name": "stdout",
          "output_type": "stream",
          "text": [
            "searching from: [0, 0] to [2, 0]\n",
            "Frontier: [[0, 0]]\n",
            "\n",
            "\n",
            "\n",
            "Now in: [0, 0]\n",
            "The neighbors of state [0, 0] are   : [[4, 0], [0, 3]]\n",
            "Frontier: [[4, 0], [0, 3]]\n",
            "\n",
            "\n",
            "\n",
            "Now in: [4, 0]\n",
            "The neighbors of state [4, 0] are   : [[4, 3], [0, 0], [1, 3]]\n",
            "Frontier: [[0, 3], [4, 3], [1, 3]]\n",
            "\n",
            "\n",
            "\n",
            "Now in: [0, 3]\n",
            "The neighbors of state [0, 3] are   : [[4, 3], [0, 0], [3, 0]]\n",
            "Frontier: [[4, 3], [1, 3], [3, 0]]\n",
            "\n",
            "\n",
            "\n",
            "Now in: [4, 3]\n",
            "The neighbors of state [4, 3] are   : [[0, 3], [4, 0], [4, 3], [4, 3]]\n",
            "Frontier: [[1, 3], [3, 0]]\n",
            "\n",
            "\n",
            "\n",
            "Now in: [1, 3]\n",
            "The neighbors of state [1, 3] are   : [[4, 3], [0, 3], [1, 0], [4, 0], [1, 3], [4, 0]]\n",
            "Frontier: [[3, 0], [1, 0]]\n",
            "\n",
            "\n",
            "\n",
            "Now in: [3, 0]\n",
            "The neighbors of state [3, 0] are   : [[4, 0], [3, 3], [0, 0], [0, 3], [0, 3]]\n",
            "Frontier: [[1, 0], [3, 3]]\n",
            "\n",
            "\n",
            "\n",
            "Now in: [1, 0]\n",
            "The neighbors of state [1, 0] are   : [[4, 0], [1, 3], [0, 0], [0, 1]]\n",
            "Frontier: [[3, 3], [0, 1]]\n",
            "\n",
            "\n",
            "\n",
            "Now in: [3, 3]\n",
            "The neighbors of state [3, 3] are   : [[4, 3], [0, 3], [3, 0], [4, 2], [3, 3]]\n",
            "Frontier: [[0, 1], [4, 2]]\n",
            "\n",
            "\n",
            "\n",
            "Now in: [0, 1]\n",
            "The neighbors of state [0, 1] are   : [[4, 1], [0, 3], [0, 0], [1, 0]]\n",
            "Frontier: [[4, 2], [4, 1]]\n",
            "\n",
            "\n",
            "\n",
            "Now in: [4, 2]\n",
            "The neighbors of state [4, 2] are   : [[4, 3], [0, 2], [4, 0], [4, 2], [3, 3]]\n",
            "Frontier: [[4, 1], [0, 2]]\n",
            "\n",
            "\n",
            "\n",
            "Now in: [4, 1]\n",
            "The neighbors of state [4, 1] are   : [[4, 3], [0, 1], [4, 0], [4, 1], [2, 3]]\n",
            "Frontier: [[0, 2], [2, 3]]\n",
            "\n",
            "\n",
            "\n",
            "Now in: [0, 2]\n",
            "The neighbors of state [0, 2] are   : [[4, 2], [0, 3], [0, 0], [2, 0]]\n",
            "Frontier: [[2, 3], [2, 0]]\n",
            "\n",
            "\n",
            "\n",
            "Now in: [2, 3]\n",
            "The neighbors of state [2, 3] are   : [[4, 3], [0, 3], [2, 0], [4, 1], [2, 3]]\n",
            "Frontier: [[2, 0]]\n",
            "\n",
            "\n",
            "\n",
            "Now in: [2, 0]\n",
            "Desitnation reached\n"
          ]
        },
        {
          "data": {
            "text/plain": [
              "[2, 0]"
            ]
          },
          "execution_count": 40,
          "metadata": {},
          "output_type": "execute_result"
        }
      ],
      "source": [
        "\n",
        "initial = [0,0] # Define the initial state is a two elemet\n",
        "goal = [2,0] # one liter water in 5lt jug\n",
        "dfs(initial,goal)"
      ]
    },
    {
      "cell_type": "code",
      "execution_count": null,
      "metadata": {
        "id": "enB_P7vpBL0m"
      },
      "outputs": [],
      "source": []
    },
    {
      "cell_type": "code",
      "execution_count": null,
      "metadata": {
        "id": "AJt6ZFxqBL0m"
      },
      "outputs": [],
      "source": []
    }
  ],
  "metadata": {
    "kernelspec": {
      "display_name": "Python 3",
      "language": "python",
      "name": "python3"
    },
    "language_info": {
      "codemirror_mode": {
        "name": "ipython",
        "version": 3
      },
      "file_extension": ".py",
      "mimetype": "text/x-python",
      "name": "python",
      "nbconvert_exporter": "python",
      "pygments_lexer": "ipython3",
      "version": "3.6.5"
    },
    "colab": {
      "provenance": []
    }
  },
  "nbformat": 4,
  "nbformat_minor": 0
}